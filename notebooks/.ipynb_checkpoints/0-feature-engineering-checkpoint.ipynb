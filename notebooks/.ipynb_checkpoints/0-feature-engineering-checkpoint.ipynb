{
 "cells": [
  {
   "cell_type": "code",
   "execution_count": 1,
   "metadata": {},
   "outputs": [],
   "source": [
    "# https://www.kaggle.com/netssfy/learning-curve\n",
    "# https://medium.com/i-like-big-data-and-i-cannot-lie/how-i-scored-in-the-top-9-of-kaggles-titanic-machine-learning-challenge-243b5f45c8e9\n",
    "import re\n",
    "import pandas as pd\n",
    "import numpy as np\n",
    "\n",
    "pd.set_option('display.width', None)"
   ]
  },
  {
   "cell_type": "code",
   "execution_count": 5,
   "metadata": {},
   "outputs": [
    {
     "data": {
      "text/plain": [
       "(891, 12)"
      ]
     },
     "execution_count": 5,
     "metadata": {},
     "output_type": "execute_result"
    }
   ],
   "source": [
    "dat = pd.read_csv(\"../local-data/input/train.csv\")\n",
    "dat.shape"
   ]
  },
  {
   "cell_type": "code",
   "execution_count": 12,
   "metadata": {},
   "outputs": [],
   "source": [
    "df = dat.copy()"
   ]
  },
  {
   "cell_type": "code",
   "execution_count": 13,
   "metadata": {},
   "outputs": [],
   "source": [
    "# drop Ticket\n",
    "df = df.drop(['Ticket'], axis=1)"
   ]
  },
  {
   "cell_type": "code",
   "execution_count": 14,
   "metadata": {},
   "outputs": [
    {
     "data": {
      "text/plain": [
       "G6             0.019608\n",
       "C23 C25 C27    0.019608\n",
       "B96 B98        0.019608\n",
       "F2             0.014706\n",
       "E101           0.014706\n",
       "                 ...   \n",
       "A14            0.004902\n",
       "D6             0.004902\n",
       "C111           0.004902\n",
       "B94            0.004902\n",
       "A19            0.004902\n",
       "Name: Cabin, Length: 147, dtype: float64"
      ]
     },
     "execution_count": 14,
     "metadata": {},
     "output_type": "execute_result"
    }
   ],
   "source": [
    "df['Cabin'].value_counts(normalize=True)"
   ]
  },
  {
   "cell_type": "code",
   "execution_count": 11,
   "metadata": {},
   "outputs": [
    {
     "data": {
      "text/plain": [
       "U    0.771044\n",
       "C    0.066218\n",
       "B    0.052750\n",
       "D    0.037037\n",
       "E    0.035915\n",
       "A    0.016835\n",
       "F    0.014590\n",
       "G    0.004489\n",
       "T    0.001122\n",
       "Name: Cabin, dtype: float64"
      ]
     },
     "execution_count": 11,
     "metadata": {},
     "output_type": "execute_result"
    }
   ],
   "source": [
    "# modify Cabin\n",
    "df['Cabin'] = df['Cabin'].fillna('U')\n",
    "df['Cabin'] = df.Cabin.str.extract('([A-Za-z])', expand=False)\n",
    "\n",
    "# df['Cabin'] = df['Cabin'].map({'A': 0, 'B': 0, 'C': 0, 'D': 0, 'E': 0,\n",
    "#                                          'F': 0, 'G': 0, 'T': 0, 'U': 1}).astype(int)\n",
    "df['Cabin'].value_counts(normalize=True)"
   ]
  },
  {
   "cell_type": "code",
   "execution_count": 16,
   "metadata": {
    "scrolled": true
   },
   "outputs": [
    {
     "data": {
      "text/plain": [
       "Mr          0.580247\n",
       "Miss        0.204265\n",
       "Mrs         0.140292\n",
       "Master      0.044893\n",
       "Dr          0.007856\n",
       "Rev         0.006734\n",
       "Major       0.002245\n",
       "Col         0.002245\n",
       "Mlle        0.002245\n",
       "Mme         0.001122\n",
       "Sir         0.001122\n",
       "Ms          0.001122\n",
       "Lady        0.001122\n",
       "Don         0.001122\n",
       "Countess    0.001122\n",
       "Jonkheer    0.001122\n",
       "Capt        0.001122\n",
       "Name: Title, dtype: float64"
      ]
     },
     "execution_count": 16,
     "metadata": {},
     "output_type": "execute_result"
    }
   ],
   "source": [
    "# obtain Title from name (Mr, Mrs, Miss etc)\n",
    "df['Title'] = df.Name.str.extract(' ([A-Za-z]+)\\.', expand=False)\n",
    "df['Title'].value_counts(normalize=True)"
   ]
  },
  {
   "cell_type": "code",
   "execution_count": 18,
   "metadata": {
    "scrolled": true
   },
   "outputs": [
    {
     "data": {
      "text/plain": [
       "Mr         0.580247\n",
       "Miss       0.207632\n",
       "Mrs        0.141414\n",
       "Master     0.044893\n",
       "Officer    0.012346\n",
       "Dr         0.007856\n",
       "Royalty    0.005612\n",
       "Name: Title, dtype: float64"
      ]
     },
     "execution_count": 18,
     "metadata": {},
     "output_type": "execute_result"
    }
   ],
   "source": [
    "df['Title'] = df['Title'].replace(['Lady', 'Countess', 'Dona'],'Royalty')\n",
    "df['Title'] = df['Title'].replace(['Mme'], 'Mrs')\n",
    "df['Title'] = df['Title'].replace(['Mlle','Ms'], 'Miss')\n",
    "df['Title'] = df['Title'].replace(['Capt', 'Col', 'Major','Rev'], 'Officer')\n",
    "df['Title'] = df['Title'].replace(['Jonkheer', 'Don','Sir'], 'Royalty')\n",
    "# dataset.loc[(dataset.Sex == 'male')   & (dataset.Title == 'Dr'),'Title'] = 'Mr'\n",
    "# dataset.loc[(dataset.Sex == 'female') & (dataset.Title == 'Dr'),'Title'] = 'Mrs'\n",
    "df['Title'].value_counts(normalize=True)"
   ]
  },
  {
   "cell_type": "code",
   "execution_count": null,
   "metadata": {},
   "outputs": [],
   "source": [
    "# Covert 'Title' to numbers (Mr->1, Miss->2 ...)\n",
    "title_mapping = {\"Mr\": 1, \"Miss\": 2, \"Mrs\": 3, \"Master\": 4, \"Royalty\": 5, \"Officer\": 6}\n",
    "# df['Title'] = df['Title'].map(title_mapping)\n",
    "# df['Title'] = df['Title'].fillna(0)"
   ]
  },
  {
   "cell_type": "code",
   "execution_count": null,
   "metadata": {},
   "outputs": [],
   "source": [
    "# Remove 'Name' and 'PassengerId' in training data, and 'Name' in testing data\n",
    "train_df = train_df.drop(['Name', 'PassengerId'], axis=1)\n",
    "test_df = test_df.drop(['Name'], axis=1)\n",
    "combine = [train_df, test_df]"
   ]
  },
  {
   "cell_type": "code",
   "execution_count": null,
   "metadata": {},
   "outputs": [],
   "source": [
    "# TODO xtab title-age\n",
    "# if age < 16, set 'Sex' to Child\n",
    "# df.loc[(df.Age < 16), 'Sex'] = 'Child'"
   ]
  },
  {
   "cell_type": "code",
   "execution_count": null,
   "metadata": {},
   "outputs": [],
   "source": [
    "# Covert 'Sex' to numbers (female:1, male:2)\n",
    "# df['Sex'] = df['Sex'].map({'female': 1, 'male': 0, 'Child': 2}).astype(int)"
   ]
  },
  {
   "cell_type": "code",
   "execution_count": null,
   "metadata": {},
   "outputs": [],
   "source": [
    "# Guess age values using median values for age across set of Pclass and gender frature combinations\n",
    "# df['Age'] = (df.groupby(['Sex', 'Pclass'])['Age']\n",
    "#              .transform(lambda x: x.fillna(x.mean())).astype(int))"
   ]
  },
  {
   "cell_type": "code",
   "execution_count": null,
   "metadata": {},
   "outputs": [],
   "source": [
    "# create Age bands and determine correlations with Survived\n",
    "train_df['AgeBand'] = pd.cut(train_df['Age'], 5)\n",
    "train_df[['AgeBand', 'Survived']].groupby(['AgeBand'], as_index=False).mean().sort_values(by='AgeBand', ascending=True)\n",
    "\n",
    "dataset.loc[ dataset['Age'] <= 16, 'Age'] = 0\n",
    "dataset.loc[(dataset['Age'] > 16) & (dataset['Age'] <= 32), 'Age'] = 1\n",
    "dataset.loc[(dataset['Age'] > 32) & (dataset['Age'] <= 48), 'Age'] = 2\n",
    "dataset.loc[(dataset['Age'] > 48) & (dataset['Age'] <= 64), 'Age'] = 3\n",
    "dataset.loc[ dataset['Age'] > 64, 'Age'] = 4\n",
    "\n",
    "train_df = train_df.drop(['AgeBand'], axis=1)\n",
    "combine = [train_df, test_df]\n",
    "train_df.head()\n",
    "\n",
    "print(train_df.head())"
   ]
  },
  {
   "cell_type": "code",
   "execution_count": null,
   "metadata": {},
   "outputs": [],
   "source": [
    "# Create family size from 'sibsq + parch + 1'\n",
    "dataset['FamilySize'] = dataset['SibSp'] + dataset['Parch'] + 1\n",
    "\n",
    "train_df[['FamilySize', 'Survived']].groupby(['FamilySize'], as_index=False).mean().sort_values(by='Survived', ascending=False)"
   ]
  },
  {
   "cell_type": "code",
   "execution_count": null,
   "metadata": {},
   "outputs": [],
   "source": [
    "# create another feature called IsAlone\n",
    "dataset['IsAlone'] = 0\n",
    "dataset.loc[(dataset['FamilySize'] == 1), 'IsAlone'] = 1\n",
    "dataset.loc[(dataset['FamilySize'] > 4),  'IsAlone'] = 2\n",
    "\n",
    "train_df[['IsAlone','Survived']].groupby(['IsAlone'], as_index=False).mean()"
   ]
  },
  {
   "cell_type": "code",
   "execution_count": null,
   "metadata": {},
   "outputs": [],
   "source": [
    "# Drop Parch, SibSp, and FamilySize features in favor of IsAlone\n",
    "train_df = train_df.drop(['Parch', 'SibSp', 'FamilySize'], axis=1)\n",
    "test_df = test_df.drop(['Parch', 'SibSp', 'FamilySize'], axis=1)\n",
    "combine = [train_df, test_df]\n",
    "train_df.head()"
   ]
  },
  {
   "cell_type": "code",
   "execution_count": null,
   "metadata": {},
   "outputs": [],
   "source": [
    "# Create an artfical feature combinbing PClass and Age.\n",
    "dataset['Age*Class'] = dataset.Age * dataset.Pclass\n",
    "train_df.loc[:, ['Age*Class', 'Age', 'Pclass']].head()"
   ]
  },
  {
   "cell_type": "code",
   "execution_count": null,
   "metadata": {},
   "outputs": [],
   "source": [
    "# fill the missing values of Embarked feature with the most common occurance\n",
    "freq_port = train_df.Embarked.dropna().mode()[0]\n",
    "dataset['Embarked'] = dataset['Embarked'].fillna(freq_port)\n",
    "train_df[['Embarked', 'Survived']].groupby(['Embarked'], as_index=False).mean().sort_values(by='Survived', ascending=False)\n",
    "dataset['Embarked'] = dataset['Embarked'].map( {'S': 0, 'C': 1, 'Q': 2} ).astype(int)"
   ]
  },
  {
   "cell_type": "code",
   "execution_count": null,
   "metadata": {},
   "outputs": [],
   "source": [
    "# fill the missing values of Fare\n",
    "test_df['Fare'].fillna(test_df['Fare'].dropna().median(), inplace=True)"
   ]
  },
  {
   "cell_type": "code",
   "execution_count": null,
   "metadata": {},
   "outputs": [],
   "source": [
    "# Create FareBand\n",
    "train_df['FareBand'] = pd.qcut(train_df['Fare'], 4)\n",
    "train_df[['FareBand', 'Survived']].groupby(['FareBand'], as_index=False).mean().sort_values(by='FareBand', ascending=True)"
   ]
  },
  {
   "cell_type": "code",
   "execution_count": null,
   "metadata": {},
   "outputs": [],
   "source": [
    "# Convert the Fare feature to ordinal values based on the FareBand\n",
    "dataset.loc[ dataset['Fare'] <= 7.91, 'Fare'] = 0\n",
    "dataset.loc[(dataset['Fare'] > 7.91) & (dataset['Fare'] <= 14.454), 'Fare'] = 1\n",
    "dataset.loc[(dataset['Fare'] > 14.454) & (dataset['Fare'] <= 31), 'Fare']   = 2\n",
    "dataset.loc[ dataset['Fare'] > 31, 'Fare'] = 3\n",
    "dataset['Fare'] = dataset['Fare'].astype(int)\n",
    "train_df = train_df.drop(['FareBand'], axis=1)"
   ]
  },
  {
   "cell_type": "code",
   "execution_count": null,
   "metadata": {},
   "outputs": [],
   "source": [
    "# train_df.to_csv(\"/home/vagrant/vmtest/kaggle-titanic/local-data/titanic-train-clean.csv\", index=False)\n",
    "# test_df.to_csv(\"/home/vagrant/vmtest/kaggle-titanic/local-data/titanic-test-clean.csv\", index=False)"
   ]
  }
 ],
 "metadata": {
  "kernelspec": {
   "display_name": "Python 3",
   "language": "python",
   "name": "python3"
  },
  "language_info": {
   "codemirror_mode": {
    "name": "ipython",
    "version": 3
   },
   "file_extension": ".py",
   "mimetype": "text/x-python",
   "name": "python",
   "nbconvert_exporter": "python",
   "pygments_lexer": "ipython3",
   "version": "3.7.1"
  }
 },
 "nbformat": 4,
 "nbformat_minor": 4
}
