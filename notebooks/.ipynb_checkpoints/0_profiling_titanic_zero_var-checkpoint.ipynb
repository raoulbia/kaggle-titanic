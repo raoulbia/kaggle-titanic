{
 "cells": [
  {
   "cell_type": "code",
   "execution_count": 1,
   "metadata": {},
   "outputs": [],
   "source": [
    "import numpy as np\n",
    "import pandas as pd\n",
    "from pandas_profiling import ProfileReport "
   ]
  },
  {
   "cell_type": "markdown",
   "metadata": {},
   "source": [
    "### DATA"
   ]
  },
  {
   "cell_type": "code",
   "execution_count": 46,
   "metadata": {
    "scrolled": true
   },
   "outputs": [
    {
     "name": "stdout",
     "output_type": "stream",
     "text": [
      "cnt of removed missing closed/resolved dates: 0\n"
     ]
    },
    {
     "data": {
      "text/plain": [
       "(354747, 119)"
      ]
     },
     "execution_count": 46,
     "metadata": {},
     "output_type": "execute_result"
    }
   ],
   "source": [
    "fp = '../local-data/output/incidents_all_ready_for_profiling.csv'\n",
    "# fp = '../local-data/samples/incidents_all_SAMPLE.csv'\n",
    "# fp = '../local-data/output/incidents_all.csv'\n",
    "data = pd.read_csv(fp,\n",
    "                   keep_default_na=False ,\n",
    "                   dtype=str ,\n",
    "                   encoding='ISO-8859-1' ,\n",
    "                   error_bad_lines = False ,\n",
    "                   warn_bad_lines=True,\n",
    "                   parse_dates=['u_opened_date' ,\n",
    "                                'closed_at' ,\n",
    "                                'sys_created_on' ,\n",
    "                                'opened_at' ,\n",
    "                                'resolved_at' ,\n",
    "                                'sys_updated_on',\n",
    "#                                 'u_callback_reminder', \n",
    "#                                 'reopened_time',\n",
    "#                                 'u_portal_sla_start',\n",
    "#                                 'u_service_partner_attention_ti',\n",
    "#                                 'u_service_partner_eta_date',\n",
    "#                                 'u_strike_expiry'\n",
    "                                ],\n",
    "                   infer_datetime_format=True,\n",
    "                   index_col=0\n",
    "                  )\n",
    "before = len(data)\n",
    "data.dropna(subset=['closed_at', 'resolved_at'], inplace=True)\n",
    "after = len(data)\n",
    "print('cnt of removed missing closed/resolved dates: {}'.format(before-after))\n",
    "data.shape"
   ]
  },
  {
   "cell_type": "markdown",
   "metadata": {},
   "source": [
    "#### Replace field that's entirely space (or empty) with NaN"
   ]
  },
  {
   "cell_type": "code",
   "execution_count": 3,
   "metadata": {},
   "outputs": [],
   "source": [
    "# data = data.replace(r'^\\s*$', np.nan, regex=True)"
   ]
  },
  {
   "cell_type": "markdown",
   "metadata": {},
   "source": [
    "#### Convert column with digits to string type"
   ]
  },
  {
   "cell_type": "code",
   "execution_count": 4,
   "metadata": {},
   "outputs": [],
   "source": [
    "# data['u_alternative_telephone_no'] = data['u_alternative_telephone_no'].astype('str')"
   ]
  },
  {
   "cell_type": "markdown",
   "metadata": {},
   "source": [
    "#### Create sample dataset"
   ]
  },
  {
   "cell_type": "code",
   "execution_count": 48,
   "metadata": {},
   "outputs": [],
   "source": [
    "# samp = data.sample(10000)\n",
    "# output_path = '../local-data/samples/incidents_all_ready_for_profiling_SAMPLE.csv'\n",
    "# samp.to_csv(output_path, index=True)"
   ]
  },
  {
   "cell_type": "markdown",
   "metadata": {},
   "source": [
    "#### Inspect dates"
   ]
  },
  {
   "cell_type": "code",
   "execution_count": 6,
   "metadata": {},
   "outputs": [
    {
     "name": "stdout",
     "output_type": "stream",
     "text": [
      "min date:2017-01-02 00:00:28\n",
      "max date:2020-12-07 17:35:24\n"
     ]
    }
   ],
   "source": [
    "min_date = min(data['closed_at'])\n",
    "max_date = max(data['closed_at'])\n",
    "print('min date:{}'.format(min_date))\n",
    "print('max date:{}'.format(max_date))"
   ]
  },
  {
   "cell_type": "markdown",
   "metadata": {},
   "source": [
    "#### Drop zero variance columns"
   ]
  },
  {
   "cell_type": "code",
   "execution_count": 7,
   "metadata": {},
   "outputs": [
    {
     "data": {
      "text/plain": [
       "(354747, 125)"
      ]
     },
     "execution_count": 7,
     "metadata": {},
     "output_type": "execute_result"
    }
   ],
   "source": [
    "# get the count of unique values for each column\n",
    "nunique = data.apply(pd.Series.nunique)\n",
    "\n",
    "# drop columns that have only one unique value (zero variance)\n",
    "zero_var_cols = nunique[nunique == 1].index\n",
    "data = data.drop(zero_var_cols, axis=1)\n",
    "data.shape"
   ]
  },
  {
   "cell_type": "code",
   "execution_count": 8,
   "metadata": {},
   "outputs": [
    {
     "name": "stdout",
     "output_type": "stream",
     "text": [
      "['active', 'approval', 'approval_history', 'approval_set', 'business_impact', 'business_service', 'cause', 'delivery_plan', 'delivery_task', 'due_date', 'expected_start', 'follow_up', 'group_list', 'incident_state', 'knowledge', 'lessons_learned', 'major_incident_state', 'order', 'overview', 'promoted_by', 'promoted_on', 'proposed_by', 'proposed_on', 'skills', 'sys_class_name', 'sys_domain', 'time_worked', 'timeline', 'trigger_rule', 'u_3pty_assign_date', 'u_critcalitytsd', 'u_guest_relations_incident', 'u_reassignment_count', 'u_responded_', 'u_service_partner_watermark', 'u_sub_state', 'u_validation_required', 'upon_approval', 'upon_reject', 'user_input', 'work_end', 'work_notes_list', 'work_start']"
     ]
    }
   ],
   "source": [
    "print(sorted(set(zero_var_cols)), end='')"
   ]
  },
  {
   "cell_type": "markdown",
   "metadata": {},
   "source": [
    "#### Drop cols with all missing values"
   ]
  },
  {
   "cell_type": "code",
   "execution_count": 9,
   "metadata": {},
   "outputs": [
    {
     "data": {
      "text/plain": [
       "(354747, 119)"
      ]
     },
     "execution_count": 9,
     "metadata": {},
     "output_type": "execute_result"
    }
   ],
   "source": [
    "tmp = data.copy()\n",
    "tmp = tmp.dropna(axis=1)\n",
    "tmp_cols = tmp.columns\n",
    "del tmp\n",
    "empty_cols = set(data.columns) ^ set(tmp_cols)\n",
    "data = data.drop(empty_cols, axis=1)\n",
    "data.shape"
   ]
  },
  {
   "cell_type": "code",
   "execution_count": 10,
   "metadata": {
    "scrolled": true
   },
   "outputs": [
    {
     "name": "stdout",
     "output_type": "stream",
     "text": [
      "['reopened_time', 'u_callback_reminder', 'u_portal_sla_start', 'u_service_partner_attention_ti', 'u_service_partner_eta_date', 'u_strike_expiry']"
     ]
    }
   ],
   "source": [
    "print(sorted(set(empty_cols)), end='')"
   ]
  },
  {
   "cell_type": "markdown",
   "metadata": {},
   "source": [
    "#### View retained columns list"
   ]
  },
  {
   "cell_type": "code",
   "execution_count": 32,
   "metadata": {
    "scrolled": false
   },
   "outputs": [
    {
     "name": "stdout",
     "output_type": "stream",
     "text": [
      "119\n",
      "['actions_taken', 'activity_due', 'additional_assignee_list', 'assigned_to', 'assignment_group', 'business_duration', 'business_stc', 'calendar_duration', 'calendar_stc', 'caller_id', 'category', 'caused_by', 'child_incidents', 'close_code', 'close_notes', 'closed_at', 'closed_by', 'cmdb_ci', 'comments', 'comments_and_work_notes', 'company', 'contact_type', 'correlation_display', 'correlation_id', 'description', 'escalation', 'impact', 'location', 'location.name', 'made_sla', 'notify', 'opened_at', 'opened_by', 'parent', 'parent_incident', 'priority', 'problem_id', 'reassignment_count', 'reopen_count', 'reopened_by', 'resolved_at', 'resolved_by', 'rfc', 'severity', 'short_description', 'sla_due', 'state', 'subcategory', 'sys_created_by', 'sys_created_on', 'sys_mod_count', 'sys_tags', 'sys_updated_by', 'sys_updated_on', 'u_affected_end_user', 'u_affected_end_user_not_listed', 'u_affected_end_user_not_listed_name', 'u_alternative_site', 'u_alternative_telephone_no', 'u_business_area', 'u_call_back_reschedule_reason', 'u_caller_not_listed', 'u_caller_not_listed_name', 'u_caller_updates', 'u_ci_not_found', 'u_close_code_lvl_2', 'u_close_code_lvl_3', 'u_closeure_category', 'u_closure_category_4', 'u_closure_ci', 'u_contact_outlet', 'u_contract', 'u_crisp_closure_code', 'u_crisp_mdb_code', 'u_crisp_product_code', 'u_crisp_range', 'u_crisp_site_id', 'u_customer_chargeable', 'u_email', 'u_escalated_incident', 'u_escalation_justification', 'u_external_ref', 'u_form_created', 'u_has_been_assigned_to_network_team', 'u_issue', 'u_it_security_incident', 'u_major_incident', 'u_name_of_ci', 'u_number_of_users', 'u_opened_date', 'u_perspectium_correlation_id', 'u_perspectium_correlation_id_display', 'u_product_backlog', 'u_restricted_groups_sent_email', 'u_service_desk', 'u_service_partner', 'u_service_partner_current_prio', 'u_service_partner_eta', 'u_service_partner_new_priority', 'u_service_partner_original_pri', 'u_service_partner_override_aut', 'u_service_partner_override_pri', 'u_service_partner_ref', 'u_service_partner_requires_att', 'u_service_partner_source', 'u_service_partner_validated_in', 'u_site_in_distress', 'u_sla_status', 'u_strike_count', 'u_supplier_notes', 'u_supplier_reference', 'u_supplier_update', 'u_system_affected', 'u_tsd_classification', 'u_wb_cancellation_text', 'u_with_external_supplier', 'urgency', 'watch_list', 'work_notes']"
     ]
    }
   ],
   "source": [
    "print(len(data.columns))\n",
    "print(sorted(set(data.columns)), end='')"
   ]
  },
  {
   "cell_type": "code",
   "execution_count": 37,
   "metadata": {},
   "outputs": [],
   "source": [
    "output_path = \"../local-data/output/incidents_all_ready_for_profiling.csv\"\n",
    "data.to_csv(output_path, index=True)"
   ]
  },
  {
   "cell_type": "markdown",
   "metadata": {},
   "source": [
    "#### Profile the data"
   ]
  },
  {
   "cell_type": "code",
   "execution_count": 12,
   "metadata": {
    "scrolled": false
   },
   "outputs": [
    {
     "data": {
      "application/vnd.jupyter.widget-view+json": {
       "model_id": "bdc099e82e50440e86b7a8a66d239c1e",
       "version_major": 2,
       "version_minor": 0
      },
      "text/plain": [
       "HBox(children=(FloatProgress(value=0.0, description='Summarize dataset', max=129.0, style=ProgressStyle(descri…"
      ]
     },
     "metadata": {},
     "output_type": "display_data"
    },
    {
     "name": "stdout",
     "output_type": "stream",
     "text": [
      "\n"
     ]
    },
    {
     "data": {
      "application/vnd.jupyter.widget-view+json": {
       "model_id": "4bab8cc07fbd41048a5655258230f695",
       "version_major": 2,
       "version_minor": 0
      },
      "text/plain": [
       "HBox(children=(FloatProgress(value=0.0, description='Generate report structure', max=1.0, style=ProgressStyle(…"
      ]
     },
     "metadata": {},
     "output_type": "display_data"
    },
    {
     "name": "stdout",
     "output_type": "stream",
     "text": [
      "\n"
     ]
    },
    {
     "data": {
      "application/vnd.jupyter.widget-view+json": {
       "model_id": "874f848c2e264f909bb277ed8a7afe69",
       "version_major": 2,
       "version_minor": 0
      },
      "text/plain": [
       "HBox(children=(FloatProgress(value=0.0, description='Render HTML', max=1.0, style=ProgressStyle(description_wi…"
      ]
     },
     "metadata": {},
     "output_type": "display_data"
    },
    {
     "name": "stdout",
     "output_type": "stream",
     "text": [
      "\n"
     ]
    },
    {
     "data": {
      "application/vnd.jupyter.widget-view+json": {
       "model_id": "d5186591f07643ebb86ea0d23100aa09",
       "version_major": 2,
       "version_minor": 0
      },
      "text/plain": [
       "HBox(children=(FloatProgress(value=0.0, description='Export report to file', max=1.0, style=ProgressStyle(desc…"
      ]
     },
     "metadata": {},
     "output_type": "display_data"
    },
    {
     "name": "stdout",
     "output_type": "stream",
     "text": [
      "\n"
     ]
    }
   ],
   "source": [
    "profile = ProfileReport(data,\n",
    "                        minimal=True,\n",
    "                        title='Data Profiling Report', \n",
    "                        html={'style':{'full_width':True}}) \n",
    "# profile.to_widgets()\n",
    "profile.set_variable(\"html.minify_html\", False)\n",
    "profile.to_file(\"../docs/DATA_profiling.html\")"
   ]
  },
  {
   "cell_type": "markdown",
   "metadata": {},
   "source": [
    "### Misc."
   ]
  },
  {
   "cell_type": "code",
   "execution_count": 34,
   "metadata": {},
   "outputs": [
    {
     "name": "stdout",
     "output_type": "stream",
     "text": [
      "<class 'pandas.core.frame.DataFrame'>\n",
      "Index: 354747 entries, INC1021545 to INC1447567\n",
      "Columns: 119 entries, u_opened_date to u_perspectium_correlation_id_display\n",
      "dtypes: datetime64[ns](6), object(113)\n",
      "memory usage: 324.8+ MB\n"
     ]
    }
   ],
   "source": [
    "data.info()"
   ]
  },
  {
   "cell_type": "markdown",
   "metadata": {},
   "source": [
    "**Proportions values in columns**"
   ]
  },
  {
   "cell_type": "code",
   "execution_count": 14,
   "metadata": {
    "scrolled": false
   },
   "outputs": [],
   "source": [
    "# data['dataCenter'].value_counts(normalize=True) * 100"
   ]
  },
  {
   "cell_type": "markdown",
   "metadata": {},
   "source": [
    "#### Plotting Incident vs. Service Request count by Country"
   ]
  },
  {
   "cell_type": "code",
   "execution_count": 15,
   "metadata": {},
   "outputs": [],
   "source": [
    "# # tmp2 = tmp[(tmp.incident_type=='Incident') & (tmp.country=='Brazil')].copy()\n",
    "\n",
    "# fig, axes = plt.subplots(figsize=(20,10))\n",
    "# sns.set(context=\"paper\", font=\"monospace\")\n",
    "# sns.set_style(\"white\")\n",
    "\n",
    "# plt.title('Title');\n",
    "# sns.distplot(data.startTimeStamp, kde=False);\n",
    "# plt.xaxis.set_tick_params(rotation=45)"
   ]
  },
  {
   "cell_type": "code",
   "execution_count": 16,
   "metadata": {},
   "outputs": [],
   "source": [
    "# tmp2 = tmp[(tmp.incident_type=='Service Request') & (tmp.country=='Brazil')].copy()\n",
    "\n",
    "# fig, axes = plt.subplots(figsize=(20,10))\n",
    "# sns.set(context=\"paper\", font=\"monospace\")\n",
    "# sns.set_style(\"white\")\n",
    "\n",
    "# plt.title('Title');\n",
    "# ax = (sns.barplot(x=tmp2.category2, y=tmp2.cnt, color='lightblue')\n",
    "#     )\n",
    "# _ = ax.set_xticklabels(ax.get_xticklabels(),rotation=90)"
   ]
  },
  {
   "cell_type": "code",
   "execution_count": 17,
   "metadata": {},
   "outputs": [],
   "source": [
    "# df.describe().transpose()"
   ]
  },
  {
   "cell_type": "code",
   "execution_count": 18,
   "metadata": {},
   "outputs": [],
   "source": [
    "# dat.info(verbose=True)"
   ]
  },
  {
   "cell_type": "code",
   "execution_count": 19,
   "metadata": {
    "scrolled": false
   },
   "outputs": [],
   "source": [
    "# list(dat['category'].unique())[:5]"
   ]
  },
  {
   "cell_type": "code",
   "execution_count": 20,
   "metadata": {},
   "outputs": [],
   "source": [
    "# tmp = dat.copy()\n",
    "# tmp = tmp[tmp.category=='Application/Services']\n",
    "# tmp['description'].head()"
   ]
  },
  {
   "cell_type": "code",
   "execution_count": 21,
   "metadata": {},
   "outputs": [],
   "source": [
    "# dat['subcategory'].unique()"
   ]
  },
  {
   "cell_type": "code",
   "execution_count": 22,
   "metadata": {},
   "outputs": [],
   "source": [
    "# dat['close_description'].unique()"
   ]
  },
  {
   "cell_type": "code",
   "execution_count": 23,
   "metadata": {},
   "outputs": [],
   "source": [
    "# country breakdown\n",
    "# df = dat.copy()\n",
    "# tmp = (df.groupby('country')['incident_id']\n",
    "#        .count()\n",
    "#        .reset_index(name='cnt') \n",
    "#       )\n",
    "\n",
    "# tot = tmp.cnt.sum()\n",
    "# tmp['pct'] = tmp.apply(lambda x: x['cnt'] / tot * 100,\n",
    "#                       axis=1)\n",
    "# tmp.sort_values(by='cnt', ascending=False).head()"
   ]
  },
  {
   "cell_type": "code",
   "execution_count": 24,
   "metadata": {},
   "outputs": [],
   "source": [
    "# dat['bat_5tc_service'].unique()"
   ]
  },
  {
   "cell_type": "code",
   "execution_count": 25,
   "metadata": {},
   "outputs": [],
   "source": [
    "# df = dat.copy()\n",
    "# df = df[df.country.isin(['Russian Federation'])]\n",
    "# tmp = pd.crosstab(df.bat_5tc_service.astype(str),\n",
    "#                   df.country, \n",
    "#                   values=df.incident_id, \n",
    "#                   aggfunc=pd.Series.nunique,\n",
    "#                   margins=True,\n",
    "#                   dropna=False)#.fillna(value=0)\n",
    "# tmp.sort_values(by='All', ascending=False).head()"
   ]
  },
  {
   "cell_type": "code",
   "execution_count": 26,
   "metadata": {},
   "outputs": [],
   "source": [
    "# df = dat.copy()\n",
    "# df = df[df.country.isin(['Brazil'])]\n",
    "# tmp = pd.crosstab(df.bat_5tc_service.astype(str),\n",
    "#                   df.country, \n",
    "#                   values=df.incident_id, \n",
    "#                   aggfunc=pd.Series.nunique,\n",
    "#                   margins=True)#.fillna(value=0)\n",
    "# tmp.sort_values(by='All', ascending=False).head()"
   ]
  },
  {
   "cell_type": "code",
   "execution_count": 27,
   "metadata": {},
   "outputs": [],
   "source": [
    "# df = dat.copy()\n",
    "# df = df[df.country.isin(['United Kingdom'])]\n",
    "# tmp = pd.crosstab(df.bat_5tc_service.astype(str),\n",
    "#                   df.country, \n",
    "#                   values=df.incident_id, \n",
    "#                   aggfunc=pd.Series.nunique,\n",
    "#                   margins=True)#.fillna(value=0)\n",
    "# tmp.sort_values(by='All', ascending=False).head()"
   ]
  },
  {
   "cell_type": "code",
   "execution_count": 28,
   "metadata": {
    "scrolled": false
   },
   "outputs": [],
   "source": [
    "# list(df['short_description'].iloc[:3])"
   ]
  },
  {
   "cell_type": "code",
   "execution_count": 29,
   "metadata": {},
   "outputs": [],
   "source": [
    "# df = dat.copy()\n",
    "# df = df[df.country.isin(['Russian Federation'])]\n",
    "# print('nbr rows w/missing description: {}'.format(df['description'].isna().sum()))\n",
    "# df = df[~df.description.isna()]\n",
    "# list(df['description'].iloc[:3])\n"
   ]
  },
  {
   "cell_type": "code",
   "execution_count": 30,
   "metadata": {},
   "outputs": [],
   "source": [
    "# list(df['description.1'].iloc[:3])"
   ]
  },
  {
   "cell_type": "code",
   "execution_count": 31,
   "metadata": {},
   "outputs": [],
   "source": [
    "# list(df['close_description'].iloc[:10])"
   ]
  }
 ],
 "metadata": {
  "kernelspec": {
   "display_name": "Python 3",
   "language": "python",
   "name": "python3"
  },
  "language_info": {
   "codemirror_mode": {
    "name": "ipython",
    "version": 3
   },
   "file_extension": ".py",
   "mimetype": "text/x-python",
   "name": "python",
   "nbconvert_exporter": "python",
   "pygments_lexer": "ipython3",
   "version": "3.8.3"
  }
 },
 "nbformat": 4,
 "nbformat_minor": 4
}
